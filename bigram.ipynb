{
 "cells": [
  {
   "cell_type": "code",
   "execution_count": 3,
   "outputs": [
    {
     "name": "stdout",
     "output_type": "stream",
     "text": [
      "False\n"
     ]
    }
   ],
   "source": [
    "import torch\n",
    "device = \"cuda\" if torch.cuda.is_available() else \"cpu\"\n",
    "print(torch.cuda.is_available())"
   ],
   "metadata": {
    "collapsed": false,
    "ExecuteTime": {
     "end_time": "2024-04-22T09:41:30.161558900Z",
     "start_time": "2024-04-22T09:41:30.135686900Z"
    }
   },
   "id": "bbc87ee898e3fa16"
  },
  {
   "cell_type": "code",
   "execution_count": 4,
   "outputs": [
    {
     "name": "stdout",
     "output_type": "stream",
     "text": [
      "['\\n', '\\x0c', ' ', '!', '\"', \"'\", ',', '-', '.', ':', ';', '?', 'A', 'B', 'C', 'D', 'E', 'F', 'G', 'H', 'I', 'J', 'K', 'L', 'M', 'N', 'O', 'P', 'Q', 'R', 'S', 'T', 'U', 'V', 'W', 'X', 'Z', '[', ']', 'a', 'b', 'c', 'd', 'e', 'f', 'g', 'h', 'i', 'j', 'k', 'l', 'm', 'n', 'o', 'p', 'q', 'r', 's', 't', 'u', 'v', 'w', 'x', 'y', 'z', 'Ä', 'Ö', 'Ü', 'ß', 'ä', 'ö', 'ü']\n"
     ]
    }
   ],
   "source": [
    "with open(\"Goethe--Faust.txt\", \"r\", encoding=\"utf-8\") as f:\n",
    "    text = f.read()\n",
    "chars = sorted(set(text))\n",
    "print(chars)"
   ],
   "metadata": {
    "collapsed": false,
    "ExecuteTime": {
     "end_time": "2024-04-22T09:42:11.425953600Z",
     "start_time": "2024-04-22T09:42:11.356656400Z"
    }
   },
   "id": "a7504cb36729abf4"
  },
  {
   "cell_type": "code",
   "execution_count": 5,
   "outputs": [],
   "source": [
    "string_to_int = { ch:i for i, ch in enumerate(chars)}\n",
    "int_to_string = { i:ch for i, ch in enumerate(chars)}\n",
    "encode = lambda s: [string_to_int[c] for c in s]\n",
    "decode = lambda l: \"\".join([int_to_string[i] for i in l])"
   ],
   "metadata": {
    "collapsed": false,
    "ExecuteTime": {
     "end_time": "2024-04-22T09:42:12.975637900Z",
     "start_time": "2024-04-22T09:42:12.945032Z"
    }
   },
   "id": "b0d0623a54837db6"
  },
  {
   "cell_type": "code",
   "execution_count": 6,
   "outputs": [],
   "source": [
    "data = torch.tensor(encode(text), dtype=torch.long)"
   ],
   "metadata": {
    "collapsed": false,
    "ExecuteTime": {
     "end_time": "2024-04-22T09:42:13.255140300Z",
     "start_time": "2024-04-22T09:42:13.194298600Z"
    }
   },
   "id": "46ce181080db24f0"
  },
  {
   "cell_type": "code",
   "execution_count": 7,
   "outputs": [],
   "source": [
    "n = int(0.8 * len(data))\n",
    "train_data = data[:n]\n",
    "val_data = data[n:]"
   ],
   "metadata": {
    "collapsed": false,
    "ExecuteTime": {
     "end_time": "2024-04-22T09:42:14.192097500Z",
     "start_time": "2024-04-22T09:42:14.128139200Z"
    }
   },
   "id": "713f06f7c13c3ecd"
  },
  {
   "cell_type": "code",
   "execution_count": 8,
   "outputs": [
    {
     "name": "stdout",
     "output_type": "stream",
     "text": [
      "when input is tensor([36]) the target is tensor(59)\n",
      "when input is tensor([36, 59]) the target is tensor(43)\n",
      "when input is tensor([36, 59, 43]) the target is tensor(47)\n",
      "when input is tensor([36, 59, 43, 47]) the target is tensor(45)\n",
      "when input is tensor([36, 59, 43, 47, 45]) the target is tensor(52)\n",
      "when input is tensor([36, 59, 43, 47, 45, 52]) the target is tensor(59)\n",
      "when input is tensor([36, 59, 43, 47, 45, 52, 59]) the target is tensor(52)\n",
      "when input is tensor([36, 59, 43, 47, 45, 52, 59, 52]) the target is tensor(45)\n"
     ]
    }
   ],
   "source": [
    "block_size = 8\n",
    "\n",
    "x = train_data[:block_size]\n",
    "y = train_data[1:block_size + 1]\n",
    "\n",
    "for t in range(block_size):\n",
    "    context = x[:t+1]\n",
    "    target = y[t]\n",
    "    print(\"when input is\", context, \"the target is\", target)"
   ],
   "metadata": {
    "collapsed": false,
    "ExecuteTime": {
     "end_time": "2024-04-22T09:42:14.658875600Z",
     "start_time": "2024-04-22T09:42:14.580907300Z"
    }
   },
   "id": "22549c86a6394435"
  },
  {
   "cell_type": "code",
   "execution_count": 30,
   "outputs": [
    {
     "data": {
      "text/plain": "'cpu'"
     },
     "execution_count": 30,
     "metadata": {},
     "output_type": "execute_result"
    }
   ],
   "source": [
    "device"
   ],
   "metadata": {
    "collapsed": false,
    "ExecuteTime": {
     "end_time": "2024-04-21T21:52:22.849114700Z",
     "start_time": "2024-04-21T21:52:22.686184700Z"
    }
   },
   "id": "ce0ec2a862cd2f5a"
  },
  {
   "cell_type": "code",
   "execution_count": null,
   "outputs": [],
   "source": [],
   "metadata": {
    "collapsed": false
   },
   "id": "1c2208956b748bc3"
  }
 ],
 "metadata": {
  "kernelspec": {
   "display_name": "Python 3",
   "language": "python",
   "name": "python3"
  },
  "language_info": {
   "codemirror_mode": {
    "name": "ipython",
    "version": 2
   },
   "file_extension": ".py",
   "mimetype": "text/x-python",
   "name": "python",
   "nbconvert_exporter": "python",
   "pygments_lexer": "ipython2",
   "version": "2.7.6"
  }
 },
 "nbformat": 4,
 "nbformat_minor": 5
}
